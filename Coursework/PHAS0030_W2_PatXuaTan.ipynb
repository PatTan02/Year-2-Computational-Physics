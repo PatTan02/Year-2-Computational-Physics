{
 "cells": [
  {
   "cell_type": "markdown",
   "metadata": {},
   "source": [
    "# Week 2 Assignment: Optimisation and Root Finding \n",
    "## Pat Xua Tan 21018836\n",
    "In the following sections, we will be using two methods for finding root of the energy function of the quantum harmonic oscillator. We will use the bisection method for 1D array function and conjugate gradients for 2D array function."
   ]
  },
  {
   "cell_type": "code",
   "execution_count": 113,
   "metadata": {},
   "outputs": [],
   "source": [
    "import numpy as np\n",
    "import matplotlib.pyplot as plt\n"
   ]
  },
  {
   "cell_type": "markdown",
   "metadata": {},
   "source": [
    "### Section on 1D QHO\n"
   ]
  },
  {
   "cell_type": "code",
   "execution_count": 44,
   "metadata": {},
   "outputs": [],
   "source": [
    "def bisection(fun,a,b,tol):\n",
    "    \"\"\"creating a bisection function for finding root of a given input function\n",
    "    \n",
    "    inputs:\n",
    "    fun - function \n",
    "    a - first bracket point \n",
    "    b - second bracket point\n",
    "    tol - tolerance/ accuracy of calculation of the root\n",
    "    \n",
    "    \"\"\"\n",
    "    # Evaluate f(a) and f(b)\n",
    "    f_a = fun(a)\n",
    "    f_b = fun(b)\n",
    "    #counter i\n",
    "    i=0\n",
    "    \n",
    "    f_c = fun((a+b)/2)  #intial evaluation of the midpoint value in the function for tolerance comparison in loop\n",
    "    \n",
    "    # Now an iterative loop\n",
    "    while abs(f_c)>tol:\n",
    "        \n",
    "        c=(a+b)/2     # defining a new variable to store the renewed value of midpoint after each loop\n",
    "        \n",
    "        i+=1\n",
    "        f_c= fun(c)\n",
    "        if f_c * f_a>0: # a condition to check if the midpoint c and the initial point a have the same sign or not\n",
    "            a=c\n",
    "            f_a = f_c\n",
    "        else:\n",
    "            b=c\n",
    "            f_b=f_c\n",
    "    return i,c    # returning the counter value and the midpoint which is our root for the input function \n",
    "    \n"
   ]
  },
  {
   "cell_type": "code",
   "execution_count": 45,
   "metadata": {},
   "outputs": [
    {
     "data": {
      "text/plain": [
       "6.010416666666667"
      ]
     },
     "execution_count": 45,
     "metadata": {},
     "output_type": "execute_result"
    }
   ],
   "source": [
    "def QHO_E(alpha):\n",
    "    \"\"\"defining the energy function in terms of alpha\"\"\"\n",
    "    E= alpha/2 + 1/(8*alpha)\n",
    "    return E\n"
   ]
  },
  {
   "cell_type": "code",
   "execution_count": 46,
   "metadata": {},
   "outputs": [],
   "source": [
    "def QHO_grad(alpha):\n",
    "    \"\"\"defining the derivative of the energy function with respect to alpha\"\"\"\n",
    "    dE_dA = 1/2 - 1/(8*alpha**2)\n",
    "    return dE_dA"
   ]
  },
  {
   "cell_type": "code",
   "execution_count": 47,
   "metadata": {},
   "outputs": [
    {
     "data": {
      "text/plain": [
       "(-1.0, 1.0)"
      ]
     },
     "execution_count": 47,
     "metadata": {},
     "output_type": "execute_result"
    },
    {
     "data": {
      "image/png": "[encoded data removed]",
      "text/plain": [
       "<Figure size 432x288 with 1 Axes>"
      ]
     },
     "metadata": {
      "needs_background": "light"
     },
     "output_type": "display_data"
    }
   ],
   "source": [
    "'''Plot the graph of E to determine a suitable brackets '''\n",
    "\n",
    "x = np.linspace(-1,1,1000)\n",
    "plt.plot(x,QHO_grad(x))\n",
    "plt.axhline(ls='dashed') # adding a horizontal dashed line y=0 to locate the roots\n",
    "plt.title('The root of the energy gradient function')\n",
    "plt.ylabel(r'$\\frac{dE} {d\\alpha} $', fontsize=20)\n",
    "plt.xlabel(r'$\\alpha$',fontsize = 20)\n",
    "plt.ylim(-1,1) # limit the range of y to have a clear view of the location of the roots"
   ]
  },
  {
   "cell_type": "code",
   "execution_count": 59,
   "metadata": {},
   "outputs": [
    {
     "name": "stdout",
     "output_type": "stream",
     "text": [
      "After 19 iteration, the root of the gradient energy function (alpha) is -0.5000001907348632\n",
      "By the calculation of alpha from bisection, the minimum energy is  -0.5000000000000364 J\n"
     ]
    }
   ],
   "source": [
    "# Define brackets and tolerance\n",
    "n, alpha = bisection(QHO_grad, -0.7,-0.2,1e-6 ) # Suitable arguments\n",
    "# Output result\n",
    "print('After' ,n,'iteration, the root of the gradient energy function (alpha) is', alpha)\n",
    "print('By the calculation of alpha from bisection, the minimum energy is ', QHO_E(alpha),'J')"
   ]
  },
  {
   "cell_type": "markdown",
   "metadata": {},
   "source": [
    "### Conclusion on Section 1\n",
    "\n",
    "Due to a finite precision of computation, our alpha value is probably -0.5 with a minimum energy of E=-0.5J ."
   ]
  },
  {
   "cell_type": "markdown",
   "metadata": {},
   "source": [
    "### Section on 2D QHO\n"
   ]
  },
  {
   "cell_type": "code",
   "execution_count": 65,
   "metadata": {},
   "outputs": [],
   "source": [
    "def QHO_2D_grad(x):\n",
    "    \"\"\"Defining the Gradient of the energy function (2D array)\n",
    "    \n",
    "    input:\n",
    "    x - 2D array where x[0] is alpha and x[1] is beta\n",
    "    \n",
    "    \"\"\"\n",
    "    #partial alpha and partial beta of the energy function \n",
    "    dE_da = 1/2 - 1/(8*x[0]**2)\n",
    "    dE_db = 1/2 - 1/(8*x[1]**2)\n",
    "    \n",
    "    return np.array([dE_da,dE_db ])"
   ]
  },
  {
   "cell_type": "code",
   "execution_count": 67,
   "metadata": {},
   "outputs": [],
   "source": [
    "def QHO_2D_E(x):\n",
    "    \"\"\"The energy function (1D array) in terms of alpha and beta\n",
    "    \n",
    "    input:\n",
    "    x - 2D array where x[0] is alpha and x[1] is beta\n",
    "    \n",
    "    \"\"\"\n",
    "    a = x[0]\n",
    "    b = x[1]\n",
    "    \n",
    "    E2D = a/2 +1/(8*a) + b/2 + 1/(8*b)\n",
    "      \n",
    "    return E2D "
   ]
  },
  {
   "cell_type": "code",
   "execution_count": 124,
   "metadata": {},
   "outputs": [
    {
     "data": {
      "text/plain": [
       "Text(0, 0.5, 'beta')"
      ]
     },
     "execution_count": 124,
     "metadata": {},
     "output_type": "execute_result"
    },
    {
     "data": {
      "image/png": "[encoded data removed]",
      "text/plain": [
       "<Figure size 432x288 with 2 Axes>"
      ]
     },
     "metadata": {
      "needs_background": "light"
     },
     "output_type": "display_data"
    }
   ],
   "source": [
    "'Plotting the energy function graph in terms of alpha and beta'\n",
    "alpha = np.linspace(-1,1)\n",
    "beta = np.linspace(-1,1)\n",
    "\n",
    "aa,bb = np.meshgrid(alpha,beta)\n",
    "plt.imshow(QHO_2D_E([aa,bb]),extent=(-5,5,-5,5),origin='lower')\n",
    "plt.colorbar()\n",
    "plt.title('The energy function for optimisation')\n",
    "plt.xlabel('alpha',fontsize=15)\n",
    "plt.ylabel('beta',fontsize=15)"
   ]
  },
  {
   "cell_type": "code",
   "execution_count": 127,
   "metadata": {},
   "outputs": [
    {
     "data": {
      "text/plain": [
       "Text(0, 0.5, 'beta')"
      ]
     },
     "execution_count": 127,
     "metadata": {},
     "output_type": "execute_result"
    },
    {
     "data": {
      "image/png": "[encoded data removed]",
      "text/plain": [
       "<Figure size 432x288 with 2 Axes>"
      ]
     },
     "metadata": {
      "needs_background": "light"
     },
     "output_type": "display_data"
    }
   ],
   "source": [
    "'another energy function with less amount of point data for bracketing the root'\n",
    "alpha = np.linspace(-1,1,10)\n",
    "beta = np.linspace(-1,1,10)\n",
    "\n",
    "aa,bb = np.meshgrid(alpha,beta)\n",
    "plt.imshow(QHO_2D_E([aa,bb]),extent=(-5,5,-5,5),origin='lower')\n",
    "plt.colorbar()\n",
    "plt.title('The energy function graph for picking suitable starting point')\n",
    "plt.xlabel('alpha',fontsize=15)\n",
    "plt.ylabel('beta',fontsize=15)"
   ]
  },
  {
   "cell_type": "markdown",
   "metadata": {},
   "source": [
    "#### Description of the graph plotted above####\n",
    "The graph for the energy function look reasonable as it resemble the look of an asymptotic curve in both beta and alpha variable in which both alpha and beta functions tends to positive infinite as both variables (alpha and beta) tends to zero from the positive side and negative infinite as both varaibles tends to zero from the negative side. As we can already see from the lower resolution graph, the root is located around square box bounded by the four points (0,0),(1,0),(0,-1),(-1,-1) and another square box by the four points (0,0),(-1,0),(0,1),(-1,1) so we expect our root to be located around those area and this will help us later to pick a much better starting point for optimisation."
   ]
  },
  {
   "cell_type": "code",
   "execution_count": 101,
   "metadata": {},
   "outputs": [],
   "source": [
    "from scipy import optimize\n",
    "x0 = np.array([1,1]) # Pick a starting point with the help of the plotted energy function graph\n",
    "opt_result = optimize.minimize(QHO_2D_E , x0, method='CG', jac= QHO_2D_grad) "
   ]
  },
  {
   "cell_type": "code",
   "execution_count": 112,
   "metadata": {},
   "outputs": [
    {
     "name": "stdout",
     "output_type": "stream",
     "text": [
      "True\n",
      "Minimum is at: alpha is  0.500000689964622  and beta is  0.500000689964622\n",
      "Iters:  3\n"
     ]
    },
    {
     "data": {
      "text/plain": [
       "'opt_result.success gives a return boolean True therefore the optimisation was successful and only require \\n\\n3 interation for the optimisation process.\\n'"
      ]
     },
     "execution_count": 112,
     "metadata": {},
     "output_type": "execute_result"
    }
   ],
   "source": [
    "# Print resulting minimum, number of iterations using opt_result.x etc\n",
    "print(opt_result.success)\n",
    "print(\"Minimum is at: alpha is \",opt_result.x[0], ' and beta is ', opt_result.x[1] )\n",
    "print(\"Iters: \",opt_result.nit)\n",
    "\n",
    "# Confirm whether the optimisation was successful\n",
    "\n",
    "'''opt_result.success gives a return boolean True therefore the optimisation was successful and only require \n",
    "\n",
    "3 interation for the optimisation process.\n",
    "'''\n"
   ]
  },
  {
   "cell_type": "markdown",
   "metadata": {},
   "source": [
    "### Conclusions\n",
    "I have learned that althought the optimisation function from Scipy is useful, it has a downside of going terribly wrong and require huge amount of iteration if the initial point is too far away from the root."
   ]
  }
 ],
 "metadata": {
  "kernelspec": {
   "display_name": "Python 3 (ipykernel)",
   "language": "python",
   "name": "python3"
  },
  "language_info": {
   "codemirror_mode": {
    "name": "ipython",
    "version": 3
   },
   "file_extension": ".py",
   "mimetype": "text/x-python",
   "name": "python",
   "nbconvert_exporter": "python",
   "pygments_lexer": "ipython3",
   "version": "3.9.7"
  }
 },
 "nbformat": 4,
 "nbformat_minor": 2
}
